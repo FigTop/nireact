{
 "cells": [
  {
   "cell_type": "code",
   "execution_count": null,
   "metadata": {},
   "outputs": [],
   "source": [
    "%matplotlib inline\n",
    "import os\n",
    "import sys\n",
    "module_path = os.path.abspath('..')\n",
    "if module_path not in sys.path:\n",
    "    sys.path.append(module_path)\n",
    "import scipy.stats as st\n",
    "import matplotlib.pyplot as plt\n",
    "import numpy as np\n",
    "from nireact import model, lba, task\n",
    "\n",
    "data_dir = '/Users/morton/work/mistr'\n",
    "lba_dir = os.path.join(data_dir, 'batch', 'lba2')"
   ]
  },
  {
   "cell_type": "code",
   "execution_count": null,
   "metadata": {},
   "outputs": [],
   "source": [
    "data = task.read_test_all_subj(data_dir)\n",
    "test = data.test_type.values\n",
    "subj_idx = data.subj_idx.values\n",
    "n_subj = len(np.unique(subj_idx))"
   ]
  },
  {
   "cell_type": "code",
   "execution_count": null,
   "metadata": {},
   "outputs": [],
   "source": [
    "# prior parameters for variable drift model\n",
    "fixed = {'s': 1, 'tau': 0, 'b': 8}\n",
    "gen_param = {'A': lambda: st.uniform.rvs(0, 8),\n",
    "             'v2': lambda: st.uniform.rvs(0, 10),\n",
    "             'r': lambda: st.uniform.rvs(0, 1)}\n",
    "gen_subj = {'v1': lambda: model.sample_hier_drift(4, 1.5, .75, n_subj)}\n",
    "spec_var = {'name': 'var', 'model': lba.LBAVar(), \n",
    "            'fixed': fixed, 'param': gen_param, 'subj_param': gen_subj}"
   ]
  },
  {
   "cell_type": "code",
   "execution_count": null,
   "metadata": {},
   "outputs": [],
   "source": [
    "# prior parameters for full model\n",
    "fixed = {'s': 1, 'tau': 0, 'b': 8, 'v4': -10}\n",
    "gen_param = {'A': lambda: st.uniform.rvs(0, 8),\n",
    "             'v2': lambda: st.uniform.rvs(0, 10),\n",
    "             'r': lambda: st.uniform.rvs(0, 1)}\n",
    "gen_subj = {'v1': lambda: model.sample_hier_drift(4, 1.5, .75, n_subj),\n",
    "            'v3': lambda: model.sample_hier_drift(4, 1.5, .75, n_subj)}\n",
    "spec_nav = {'name': 'nav', 'model': lba.LBANav(), \n",
    "            'fixed': fixed, 'param': gen_param, 'subj_param': gen_subj}"
   ]
  },
  {
   "cell_type": "code",
   "execution_count": null,
   "metadata": {},
   "outputs": [],
   "source": [
    "n_rep = 100\n",
    "results = model.model_recovery([spec_var, spec_nav], test, subj_idx, n_rep, \n",
    "                               draws=10000, tune=5000, target_accept=.95)"
   ]
  },
  {
   "cell_type": "code",
   "execution_count": null,
   "metadata": {
    "pycharm": {
     "name": "#%%\n"
    }
   },
   "outputs": [],
   "source": [
    "res_file = os.path.join(lba_dir, f'model_comp{n_rep}.npz')\n",
    "np.savez(res_file, **results)"
   ]
  }
 ],
 "metadata": {
  "kernelspec": {
   "display_name": "mistr",
   "language": "python",
   "name": "mistr"
  },
  "language_info": {
   "codemirror_mode": {
    "name": "ipython",
    "version": 3
   },
   "file_extension": ".py",
   "mimetype": "text/x-python",
   "name": "python",
   "nbconvert_exporter": "python",
   "pygments_lexer": "ipython3",
   "version": "3.7.7"
  }
 },
 "nbformat": 4,
 "nbformat_minor": 4
}
