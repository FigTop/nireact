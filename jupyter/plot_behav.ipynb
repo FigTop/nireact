{
 "cells": [
  {
   "cell_type": "markdown",
   "metadata": {},
   "source": [
    "# Analyze test performance\n",
    "\n",
    "Run basic analysis of test performance and calculate statistics that are relevant for other analyses."
   ]
  },
  {
   "cell_type": "code",
   "execution_count": 1,
   "metadata": {},
   "outputs": [],
   "source": [
    "%matplotlib inline\n",
    "import numpy as np\n",
    "import scipy.stats as st\n",
    "import matplotlib.pyplot as plt\n",
    "import seaborn as sns\n",
    "import os\n",
    "import sys\n",
    "module_path = os.path.abspath('..')\n",
    "if module_path not in sys.path:\n",
    "    sys.path.append(module_path)\n",
    "from nireact import task\n",
    "\n",
    "fig_dir = '/Users/morton/Dropbox/work/mistr/figs2/plots'\n",
    "if not os.path.exists(fig_dir):\n",
    "    os.makedirs(fig_dir)"
   ]
  },
  {
   "cell_type": "markdown",
   "metadata": {},
   "source": [
    "## Load test data"
   ]
  },
  {
   "cell_type": "code",
   "execution_count": 2,
   "metadata": {},
   "outputs": [
    {
     "data": {
      "text/html": [
       "<div>\n",
       "<style scoped>\n",
       "    .dataframe tbody tr th:only-of-type {\n",
       "        vertical-align: middle;\n",
       "    }\n",
       "\n",
       "    .dataframe tbody tr th {\n",
       "        vertical-align: top;\n",
       "    }\n",
       "\n",
       "    .dataframe thead th {\n",
       "        text-align: right;\n",
       "    }\n",
       "</style>\n",
       "<table border=\"1\" class=\"dataframe\">\n",
       "  <thead>\n",
       "    <tr style=\"text-align: right;\">\n",
       "      <th></th>\n",
       "      <th>trial</th>\n",
       "      <th>triad</th>\n",
       "      <th>train_type</th>\n",
       "      <th>trial_type</th>\n",
       "      <th>test_type</th>\n",
       "      <th>correct</th>\n",
       "      <th>rt</th>\n",
       "      <th>response</th>\n",
       "      <th>test</th>\n",
       "      <th>subject</th>\n",
       "      <th>subj_id</th>\n",
       "      <th>subj_idx</th>\n",
       "    </tr>\n",
       "  </thead>\n",
       "  <tbody>\n",
       "    <tr>\n",
       "      <th>0</th>\n",
       "      <td>1</td>\n",
       "      <td>7</td>\n",
       "      <td>2</td>\n",
       "      <td>3</td>\n",
       "      <td>2</td>\n",
       "      <td>0</td>\n",
       "      <td>7.271</td>\n",
       "      <td>0</td>\n",
       "      <td>AC</td>\n",
       "      <td>2</td>\n",
       "      <td>mistr_02</td>\n",
       "      <td>0</td>\n",
       "    </tr>\n",
       "    <tr>\n",
       "      <th>1</th>\n",
       "      <td>2</td>\n",
       "      <td>12</td>\n",
       "      <td>2</td>\n",
       "      <td>3</td>\n",
       "      <td>2</td>\n",
       "      <td>1</td>\n",
       "      <td>3.852</td>\n",
       "      <td>1</td>\n",
       "      <td>AC</td>\n",
       "      <td>2</td>\n",
       "      <td>mistr_02</td>\n",
       "      <td>0</td>\n",
       "    </tr>\n",
       "    <tr>\n",
       "      <th>2</th>\n",
       "      <td>3</td>\n",
       "      <td>3</td>\n",
       "      <td>1</td>\n",
       "      <td>3</td>\n",
       "      <td>2</td>\n",
       "      <td>1</td>\n",
       "      <td>2.664</td>\n",
       "      <td>1</td>\n",
       "      <td>AC</td>\n",
       "      <td>2</td>\n",
       "      <td>mistr_02</td>\n",
       "      <td>0</td>\n",
       "    </tr>\n",
       "    <tr>\n",
       "      <th>3</th>\n",
       "      <td>4</td>\n",
       "      <td>8</td>\n",
       "      <td>2</td>\n",
       "      <td>3</td>\n",
       "      <td>2</td>\n",
       "      <td>1</td>\n",
       "      <td>2.182</td>\n",
       "      <td>1</td>\n",
       "      <td>AC</td>\n",
       "      <td>2</td>\n",
       "      <td>mistr_02</td>\n",
       "      <td>0</td>\n",
       "    </tr>\n",
       "    <tr>\n",
       "      <th>4</th>\n",
       "      <td>5</td>\n",
       "      <td>4</td>\n",
       "      <td>1</td>\n",
       "      <td>3</td>\n",
       "      <td>2</td>\n",
       "      <td>1</td>\n",
       "      <td>3.944</td>\n",
       "      <td>1</td>\n",
       "      <td>AC</td>\n",
       "      <td>2</td>\n",
       "      <td>mistr_02</td>\n",
       "      <td>0</td>\n",
       "    </tr>\n",
       "  </tbody>\n",
       "</table>\n",
       "</div>"
      ],
      "text/plain": [
       "   trial  triad  train_type  trial_type  test_type  correct     rt  response  \\\n",
       "0      1      7           2           3          2        0  7.271         0   \n",
       "1      2     12           2           3          2        1  3.852         1   \n",
       "2      3      3           1           3          2        1  2.664         1   \n",
       "3      4      8           2           3          2        1  2.182         1   \n",
       "4      5      4           1           3          2        1  3.944         1   \n",
       "\n",
       "  test  subject   subj_id  subj_idx  \n",
       "0   AC        2  mistr_02         0  \n",
       "1   AC        2  mistr_02         0  \n",
       "2   AC        2  mistr_02         0  \n",
       "3   AC        2  mistr_02         0  \n",
       "4   AC        2  mistr_02         0  "
      ]
     },
     "execution_count": 2,
     "metadata": {},
     "output_type": "execute_result"
    }
   ],
   "source": [
    "data_dir = '/Users/morton/work/mistr'\n",
    "data = task.read_test_all_subj(data_dir)\n",
    "data.head()"
   ]
  },
  {
   "cell_type": "markdown",
   "metadata": {},
   "source": [
    "## Analyze accuracy\n",
    "\n",
    "Calculate summary statistics and plots by test type. Test for accuracy differences between tests."
   ]
  },
  {
   "cell_type": "code",
   "execution_count": 3,
   "metadata": {},
   "outputs": [
    {
     "data": {
      "text/html": [
       "<div>\n",
       "<style scoped>\n",
       "    .dataframe tbody tr th:only-of-type {\n",
       "        vertical-align: middle;\n",
       "    }\n",
       "\n",
       "    .dataframe tbody tr th {\n",
       "        vertical-align: top;\n",
       "    }\n",
       "\n",
       "    .dataframe thead th {\n",
       "        text-align: right;\n",
       "    }\n",
       "</style>\n",
       "<table border=\"1\" class=\"dataframe\">\n",
       "  <thead>\n",
       "    <tr style=\"text-align: right;\">\n",
       "      <th></th>\n",
       "      <th>AB</th>\n",
       "      <th>BC</th>\n",
       "      <th>AC</th>\n",
       "    </tr>\n",
       "  </thead>\n",
       "  <tbody>\n",
       "    <tr>\n",
       "      <th>mean</th>\n",
       "      <td>0.958333</td>\n",
       "      <td>0.974359</td>\n",
       "      <td>0.903846</td>\n",
       "    </tr>\n",
       "    <tr>\n",
       "      <th>sem</th>\n",
       "      <td>0.191667</td>\n",
       "      <td>0.194872</td>\n",
       "      <td>0.180769</td>\n",
       "    </tr>\n",
       "  </tbody>\n",
       "</table>\n",
       "</div>"
      ],
      "text/plain": [
       "            AB        BC        AC\n",
       "mean  0.958333  0.974359  0.903846\n",
       "sem   0.191667  0.194872  0.180769"
      ]
     },
     "execution_count": 3,
     "metadata": {},
     "output_type": "execute_result"
    }
   ],
   "source": [
    "# accuracy summary statistics\n",
    "test_names = ['AB', 'BC', 'AC']\n",
    "acc = data.groupby(['test', 'subject'], as_index=False).mean()\n",
    "acc_mean = acc.pivot(index='subject', columns='test', values='correct')\n",
    "acc_mean = acc_mean.reindex(test_names, axis=1)\n",
    "acc_mean.agg([np.mean, task.sem])"
   ]
  },
  {
   "cell_type": "code",
   "execution_count": 11,
   "metadata": {},
   "outputs": [
    {
     "data": {
      "image/png": "[encoded data removed]",
      "text/plain": [
       "<Figure size 252x216 with 1 Axes>"
      ]
     },
     "metadata": {
      "needs_background": "light"
     },
     "output_type": "display_data"
    }
   ],
   "source": [
    "# plot accuracy for each subject\n",
    "fig, ax = plt.subplots(figsize=(3.5, 3));\n",
    "g1 = sns.swarmplot(x='test', y='correct', data=acc, \n",
    "                   order=test_names, color=[.7, .7, .7]);\n",
    "g2 = sns.pointplot(x='test', y='correct', data=acc,\n",
    "                   order=test_names, color='k', ci=95, join=False, capsize=.5)\n",
    "ax.set_ylabel('Accuracy')\n",
    "ax.set_xlabel(None);\n",
    "ax.set_ylim(0, 1.02)\n",
    "ax.tick_params(axis='x', labelsize='large')\n",
    "plt.setp(g2.lines, zorder=100, linewidth=1)\n",
    "plt.setp(g2.collections, zorder=100);\n",
    "\n",
    "fig.savefig(os.path.join(fig_dir, 'test_accuracy.pdf'))"
   ]
  },
  {
   "cell_type": "code",
   "execution_count": 5,
   "metadata": {},
   "outputs": [
    {
     "name": "stdout",
     "output_type": "stream",
     "text": [
      "AB - BC: t(25)=-1.04, p=0.301328\n",
      "AB - AC: t(25)=2.02, p=0.0484114\n",
      "BC - AC: t(25)=2.86, p=0.00617733\n"
     ]
    }
   ],
   "source": [
    "# compare test accuracy\n",
    "df = acc_mean.shape[0] - 1\n",
    "comp = [('AB', 'BC'), ('AB', 'AC'), ('BC', 'AC')]\n",
    "for c in comp:\n",
    "    x = [acc_mean.loc[:, var].to_numpy() for var in c]\n",
    "    t, p = st.ttest_ind(x[0], x[1])\n",
    "    print(f'{c[0]} - {c[1]}: t({df})={t:.2f}, p={p:g}')"
   ]
  },
  {
   "cell_type": "markdown",
   "metadata": {},
   "source": [
    "## Number of trials for neural analysis\n",
    "\n",
    "The permutation test for cross-triad organization depends on swapping A and C items within triad, so that the number of permutations possible is 2 ** n * 2 ** m, where n and m are the number of triads responded to correctly on the inference test for the blocked and intermixed trials, respectively."
   ]
  },
  {
   "cell_type": "code",
   "execution_count": 6,
   "metadata": {},
   "outputs": [
    {
     "data": {
      "text/html": [
       "<div>\n",
       "<style scoped>\n",
       "    .dataframe tbody tr th:only-of-type {\n",
       "        vertical-align: middle;\n",
       "    }\n",
       "\n",
       "    .dataframe tbody tr th {\n",
       "        vertical-align: top;\n",
       "    }\n",
       "\n",
       "    .dataframe thead th {\n",
       "        text-align: right;\n",
       "    }\n",
       "</style>\n",
       "<table border=\"1\" class=\"dataframe\">\n",
       "  <thead>\n",
       "    <tr style=\"text-align: right;\">\n",
       "      <th></th>\n",
       "      <th>1</th>\n",
       "      <th>2</th>\n",
       "    </tr>\n",
       "  </thead>\n",
       "  <tbody>\n",
       "    <tr>\n",
       "      <th>min</th>\n",
       "      <td>2</td>\n",
       "      <td>3</td>\n",
       "    </tr>\n",
       "    <tr>\n",
       "      <th>max</th>\n",
       "      <td>6</td>\n",
       "      <td>6</td>\n",
       "    </tr>\n",
       "  </tbody>\n",
       "</table>\n",
       "</div>"
      ],
      "text/plain": [
       "     1  2\n",
       "min  2  3\n",
       "max  6  6"
      ]
     },
     "execution_count": 6,
     "metadata": {},
     "output_type": "execute_result"
    }
   ],
   "source": [
    "# range for the number of correct trials available in each training condition\n",
    "acc_train = data.groupby(['train_type', 'trial_type', 'subject'], as_index=False).sum()\n",
    "ac_count = acc_train.loc[acc_train.trial_type == 3]\n",
    "n = ac_count.pivot(index='subject', columns='train_type', values='correct')\n",
    "n.agg(['min', 'max'])"
   ]
  },
  {
   "cell_type": "code",
   "execution_count": 7,
   "metadata": {},
   "outputs": [
    {
     "data": {
      "text/plain": [
       "min     128\n",
       "max    4096\n",
       "dtype: int64"
      ]
     },
     "execution_count": 7,
     "metadata": {},
     "output_type": "execute_result"
    }
   ],
   "source": [
    "# number of permutations possible for cross-triad analysis\n",
    "(2 ** n.sum(1)).agg(['min', 'max'])"
   ]
  },
  {
   "cell_type": "markdown",
   "metadata": {},
   "source": [
    "## Analyze response time"
   ]
  },
  {
   "cell_type": "code",
   "execution_count": 8,
   "metadata": {},
   "outputs": [
    {
     "data": {
      "text/html": [
       "<div>\n",
       "<style scoped>\n",
       "    .dataframe tbody tr th:only-of-type {\n",
       "        vertical-align: middle;\n",
       "    }\n",
       "\n",
       "    .dataframe tbody tr th {\n",
       "        vertical-align: top;\n",
       "    }\n",
       "\n",
       "    .dataframe thead th {\n",
       "        text-align: right;\n",
       "    }\n",
       "</style>\n",
       "<table border=\"1\" class=\"dataframe\">\n",
       "  <thead>\n",
       "    <tr style=\"text-align: right;\">\n",
       "      <th></th>\n",
       "      <th>AB</th>\n",
       "      <th>BC</th>\n",
       "      <th>AC</th>\n",
       "    </tr>\n",
       "  </thead>\n",
       "  <tbody>\n",
       "    <tr>\n",
       "      <th>mean</th>\n",
       "      <td>2.454980</td>\n",
       "      <td>2.639359</td>\n",
       "      <td>4.829247</td>\n",
       "    </tr>\n",
       "    <tr>\n",
       "      <th>sem</th>\n",
       "      <td>0.490996</td>\n",
       "      <td>0.527872</td>\n",
       "      <td>0.965849</td>\n",
       "    </tr>\n",
       "  </tbody>\n",
       "</table>\n",
       "</div>"
      ],
      "text/plain": [
       "            AB        BC        AC\n",
       "mean  2.454980  2.639359  4.829247\n",
       "sem   0.490996  0.527872  0.965849"
      ]
     },
     "execution_count": 8,
     "metadata": {},
     "output_type": "execute_result"
    }
   ],
   "source": [
    "# get mean rt for correct trials only\n",
    "corr = data.loc[data.correct == 1]\n",
    "rt_corr = corr.groupby(['test', 'subject'], as_index=False).mean()\n",
    "rt_mean = rt_corr.pivot(index='subject', columns='test', values='rt')\n",
    "rt_mean = rt_mean.reindex(test_names, axis=1)\n",
    "rt_mean.agg([np.mean, task.sem])"
   ]
  },
  {
   "cell_type": "code",
   "execution_count": 47,
   "metadata": {},
   "outputs": [
    {
     "name": "stdout",
     "output_type": "stream",
     "text": [
      "0.5953057437549008\n",
      "0.554324104966208\n"
     ]
    }
   ],
   "source": [
    "dm = corr.groupby(['train_type', 'test', 'subject']).mean()\n",
    "rt_diff = (dm.loc[1] - dm.loc[2]).reset_index()\n",
    "m = (dm.loc[1] - dm.loc[2])\n",
    "mm = (m.loc['AB'] + m.loc['BC']) / 2\n",
    "direct = mm.rt.values\n",
    "indirect = m.loc['AC'].rt.values\n",
    "t, p = st.ttest_ind(direct - indirect, np.zeros(direct.shape))\n",
    "print(t)\n",
    "print(p)"
   ]
  },
  {
   "cell_type": "code",
   "execution_count": 12,
   "metadata": {},
   "outputs": [
    {
     "data": {
      "image/png": "[encoded data removed]",
      "text/plain": [
       "<Figure size 252x216 with 1 Axes>"
      ]
     },
     "metadata": {
      "needs_background": "light"
     },
     "output_type": "display_data"
    }
   ],
   "source": [
    "fig, ax = plt.subplots(figsize=(3.5, 3));\n",
    "g1 = sns.swarmplot(x='test', y='rt', data=rt_corr, order=test_names, \n",
    "                   color=[.7, .7, .7]);\n",
    "g2 = sns.pointplot(x='test', y='rt', data=rt_corr, order=test_names,\n",
    "                   color='k', ci=95, join=False, capsize=.5)\n",
    "ax.set_ylabel('Reaction time (s)')\n",
    "ax.set_xlabel(None);\n",
    "ax.set_ylim(0, 10)\n",
    "ax.tick_params(axis='x', labelsize='large')\n",
    "plt.setp(g2.lines, zorder=100, linewidth=1)\n",
    "plt.setp(g2.collections, zorder=100);\n",
    "\n",
    "fig.savefig(os.path.join(fig_dir, 'test_rt.pdf'))"
   ]
  },
  {
   "cell_type": "code",
   "execution_count": 10,
   "metadata": {},
   "outputs": [
    {
     "name": "stdout",
     "output_type": "stream",
     "text": [
      "AB - BC: t(25)=-0.72, p=0.476807\n",
      "AB - AC: t(25)=-6.90, p=8.60972e-09\n",
      "BC - AC: t(25)=-5.96, p=2.5663e-07\n"
     ]
    }
   ],
   "source": [
    "# compare test RT\n",
    "df = rt_mean.shape[0] - 1\n",
    "comp = [('AB', 'BC'), ('AB', 'AC'), ('BC', 'AC')]\n",
    "for c in comp:\n",
    "    x = [rt_mean.loc[:, var].to_numpy() for var in c]\n",
    "    t, p = st.ttest_ind(x[0], x[1])\n",
    "    print(f'{c[0]} - {c[1]}: t({df})={t:.2f}, p={p:g}')"
   ]
  },
  {
   "cell_type": "code",
   "execution_count": 50,
   "metadata": {},
   "outputs": [
    {
     "name": "stdout",
     "output_type": "stream",
     "text": [
      "t(25)=-6.63, p=2.24024e-08\n"
     ]
    }
   ],
   "source": [
    "direct = (rt_mean.AB + rt_mean.BC) / 2\n",
    "indirect = rt_mean.AC\n",
    "t, p = st.ttest_ind(direct, indirect)\n",
    "print(f't(25)={t:.2f}, p={p:g}')"
   ]
  }
 ],
 "metadata": {
  "kernelspec": {
   "display_name": "Python 3",
   "language": "python",
   "name": "python3"
  },
  "language_info": {
   "codemirror_mode": {
    "name": "ipython",
    "version": 3
   },
   "file_extension": ".py",
   "mimetype": "text/x-python",
   "name": "python",
   "nbconvert_exporter": "python",
   "pygments_lexer": "ipython3",
   "version": "3.7.7"
  }
 },
 "nbformat": 4,
 "nbformat_minor": 4
}
