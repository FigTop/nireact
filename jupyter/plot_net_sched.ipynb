{
 "cells": [
  {
   "cell_type": "markdown",
   "metadata": {},
   "source": [
    "# Network model proof of concept\n",
    "\n",
    "Run a simple simulation of the learning phase of the task for one participant. Train the model with an input of the presented items and an output of the presented items + their corresponding item type (A, B, C). Then, simulate the display task by presenting the patterns of individual items"
   ]
  },
  {
   "cell_type": "code",
   "execution_count": 1,
   "metadata": {},
   "outputs": [],
   "source": [
    "%matplotlib inline\n",
    "import os\n",
    "import sys\n",
    "import numpy as np\n",
    "import matplotlib.pyplot as plt\n",
    "import seaborn as sns\n",
    "import pandas as pd\n",
    "from sklearn.manifold import MDS\n",
    "import tensorflow as tf\n",
    "from tensorflow.keras import layers\n",
    "\n",
    "module_path = os.path.abspath('..')\n",
    "if module_path not in sys.path:\n",
    "    sys.path.append(module_path)\n",
    "from nireact import task\n",
    "\n",
    "fig_dir = '/Users/morton/Dropbox/work/mistr/figs2/net'\n",
    "if not os.path.exists(fig_dir):\n",
    "    os.makedirs(fig_dir)"
   ]
  },
  {
   "cell_type": "markdown",
   "metadata": {},
   "source": [
    "## Load study-phase learning schedule\n",
    "\n",
    "Load the study schedule for one sample participant and select a learning phase (blocked or intermixed) to simulate."
   ]
  },
  {
   "cell_type": "code",
   "execution_count": 2,
   "metadata": {},
   "outputs": [],
   "source": [
    "# read the study-phase data for one subject; for visualization\n",
    "# purposes, remap item number to be in triad, item_type order\n",
    "subj_dir = '/Users/morton/work/mistr/mistr_02/behav/log'\n",
    "log = task.read_study(subj_dir)\n",
    "\n",
    "block = log.loc[log.train_type == 1]\n",
    "inter = log.loc[log.train_type == 2].reset_index()\n",
    "\n",
    "# select the phase to use for simulation (performance is similar)\n",
    "study = inter"
   ]
  },
  {
   "cell_type": "code",
   "execution_count": 3,
   "metadata": {},
   "outputs": [
    {
     "name": "stdout",
     "output_type": "stream",
     "text": [
      "within-triad gap:  4.89\n",
      "between-triad gap: 7.12\n"
     ]
    }
   ],
   "source": [
    "# get the mean number of trials between within-triad \n",
    "# gaps (AB to BC) and between-triad gaps\n",
    "gap = np.array([np.diff(np.nonzero(inter.triad.values == i)[0]) for i in range(7, 13)])\n",
    "within = np.mean(gap[:, ::2])\n",
    "between = np.mean(gap[:, 1::2])\n",
    "print(f'within-triad gap:  {within:.2f}')\n",
    "print(f'between-triad gap: {between:.2f}')"
   ]
  },
  {
   "cell_type": "markdown",
   "metadata": {},
   "source": [
    "## Create model inputs and outputs for simulation\n",
    "\n",
    "Simulate each trial by presenting item pairs and training to predict the same items + item type."
   ]
  },
  {
   "cell_type": "code",
   "execution_count": 4,
   "metadata": {},
   "outputs": [
    {
     "data": {
      "image/png": "[encoded data removed]",
      "text/plain": [
       "<Figure size 432x288 with 1 Axes>"
      ]
     },
     "metadata": {
      "needs_background": "light"
     },
     "output_type": "display_data"
    }
   ],
   "source": [
    "# make patterns for each trial indicating studies pairs\n",
    "trial_item = task.pair_item_patterns(study)\n",
    "fig, ax = plt.subplots()\n",
    "h = ax.pcolor(trial_item)"
   ]
  },
  {
   "cell_type": "code",
   "execution_count": 5,
   "metadata": {},
   "outputs": [
    {
     "data": {
      "image/png": "[encoded data removed]",
      "text/plain": [
       "<Figure size 432x288 with 1 Axes>"
      ]
     },
     "metadata": {
      "needs_background": "light"
     },
     "output_type": "display_data"
    }
   ],
   "source": [
    "# make output patterns (same, but with added item type)\n",
    "trial_itemtype = task.pair_itemtype_patterns(study)\n",
    "trial_conj = np.hstack((trial_item, trial_itemtype))\n",
    "fig, ax = plt.subplots()\n",
    "h = ax.pcolor(trial_conj)"
   ]
  },
  {
   "cell_type": "markdown",
   "metadata": {},
   "source": [
    "## Create a backpropagation network\n",
    "\n",
    "The network has an input layer, one hidden layer, and an output layer."
   ]
  },
  {
   "cell_type": "code",
   "execution_count": 32,
   "metadata": {},
   "outputs": [],
   "source": [
    "# create a three-layer network\n",
    "n_input = trial_item.shape[1]\n",
    "n_output = trial_conj.shape[1]\n",
    "model = tf.keras.Sequential([\n",
    "    layers.Dense(n_input, activation='relu', input_shape=(n_input,)),\n",
    "    layers.Dense(12, activation='relu',\n",
    "                 kernel_regularizer=tf.keras.regularizers.l2(l=1)),\n",
    "    layers.Dense(n_output, activation='softmax')\n",
    "])\n",
    "\n",
    "# compile the network with standard settings\n",
    "optimizer=tf.keras.optimizers.Adam()\n",
    "model.compile(optimizer=optimizer,\n",
    "              loss='binary_crossentropy',\n",
    "              metrics=['accuracy', 'binary_crossentropy'])"
   ]
  },
  {
   "cell_type": "markdown",
   "metadata": {},
   "source": [
    "## Simulate the study and display tasks\n",
    "\n",
    "This is run many times to allow the model to converge. This isn't very realistic, but it's necessary for such as simple model to be able to learn this task well. A more realistic model would look more like the hippocampus and include recurrence to facilitate fast, pattern-separated learning.\n",
    "\n",
    "After training, simulate the display task by presenting each item pattern and observing the resulting effect on the hidden layer."
   ]
  },
  {
   "cell_type": "code",
   "execution_count": 33,
   "metadata": {},
   "outputs": [],
   "source": [
    "# fit the model by training it to produce the output patterns\n",
    "history = model.fit(trial_item, trial_conj, epochs=1000, \n",
    "                    shuffle=False, verbose=0)\n",
    "\n",
    "# present individual item patterns to the trained network\n",
    "label_indiv = np.eye(trial_item.shape[1])\n",
    "\n",
    "# output layer\n",
    "result = model.predict(label_indiv)\n",
    "\n",
    "# hidden layer\n",
    "model.pop()\n",
    "hidden = model.predict(label_indiv)"
   ]
  },
  {
   "cell_type": "code",
   "execution_count": 34,
   "metadata": {},
   "outputs": [
    {
     "data": {
      "image/png": "[encoded data removed]",
      "text/plain": [
       "<Figure size 432x288 with 1 Axes>"
      ]
     },
     "metadata": {
      "needs_background": "light"
     },
     "output_type": "display_data"
    }
   ],
   "source": [
    "fig, ax = plt.subplots()\n",
    "ax.matshow(label_indiv)\n",
    "h = ax.axis('off')\n",
    "fig.savefig(os.path.join(fig_dir, 'net_conj_input.pdf'))"
   ]
  },
  {
   "cell_type": "code",
   "execution_count": 35,
   "metadata": {},
   "outputs": [
    {
     "data": {
      "image/png": "[encoded data removed]",
      "text/plain": [
       "<Figure size 432x288 with 1 Axes>"
      ]
     },
     "metadata": {
      "needs_background": "light"
     },
     "output_type": "display_data"
    }
   ],
   "source": [
    "fig, ax = plt.subplots()\n",
    "ax.matshow(hidden)\n",
    "h = ax.axis('off')\n",
    "fig.savefig(os.path.join(fig_dir, 'net_conj_hidden.pdf'))"
   ]
  },
  {
   "cell_type": "code",
   "execution_count": 36,
   "metadata": {},
   "outputs": [
    {
     "data": {
      "image/png": "[encoded data removed]",
      "text/plain": [
       "<Figure size 432x288 with 1 Axes>"
      ]
     },
     "metadata": {
      "needs_background": "light"
     },
     "output_type": "display_data"
    }
   ],
   "source": [
    "fig, ax = plt.subplots()\n",
    "ax.matshow(result)\n",
    "h = ax.axis('off')\n",
    "fig.savefig(os.path.join(fig_dir, 'net_conj_output.pdf'))"
   ]
  },
  {
   "cell_type": "markdown",
   "metadata": {},
   "source": [
    "## Analyze hidden layer representations\n",
    "\n",
    "Filter the hidden layer representations to get just A and C items (to match the neural analysis). Then use MDS to project the representation into two dimensions for visualization."
   ]
  },
  {
   "cell_type": "code",
   "execution_count": 37,
   "metadata": {},
   "outputs": [
    {
     "name": "stderr",
     "output_type": "stream",
     "text": [
      "/Users/morton/anaconda3/envs/mistr/lib/python3.7/site-packages/sklearn/manifold/mds.py:421: UserWarning: The MDS API has changed. ``fit`` now constructs an dissimilarity matrix from data. To use a custom dissimilarity matrix, set ``dissimilarity='precomputed'``.\n",
      "  warnings.warn(\"The MDS API has changed. ``fit`` now constructs an\"\n"
     ]
    },
    {
     "data": {
      "image/png": "[encoded data removed]",
      "text/plain": [
       "<Figure size 216x216 with 1 Axes>"
      ]
     },
     "metadata": {},
     "output_type": "display_data"
    }
   ],
   "source": [
    "# get just AC items\n",
    "df_item = task.task_items(6, 1)\n",
    "include = np.isin(df_item.item_type, [1, 3])\n",
    "hidden_ac = hidden[include, :]\n",
    "\n",
    "# run MDS\n",
    "embedding = MDS(n_components=2)\n",
    "mdsfit = embedding.fit_transform(hidden_ac)\n",
    "\n",
    "# place item information and MDS projection in dataframe\n",
    "mdsdf = pd.DataFrame({'Dimension 1': mdsfit[:, 0], \n",
    "                      'Dimension 2': mdsfit[:, 1]})\n",
    "df_full = pd.concat((mdsdf, df_item.loc[include, :].reset_index()), axis=1)\n",
    "\n",
    "# plot with triads and item type labeled\n",
    "fig, ax = plt.subplots(figsize=(3, 3));\n",
    "ax = sns.scatterplot(x='Dimension 1', y='Dimension 2',\n",
    "                     hue='item_type', style='triad', \n",
    "                     data=df_full, s=100, \n",
    "                     palette=sns.color_palette(\"husl\", 2));\n",
    "ax.get_legend().remove()\n",
    "ax.set_xticks([])\n",
    "ax.set_yticks([])\n",
    "ax.axis('equal');\n",
    "fig.savefig(os.path.join(fig_dir, 'net_conj_mds.pdf'))"
   ]
  },
  {
   "cell_type": "markdown",
   "metadata": {},
   "source": [
    "## Make input/output schematic\n",
    "\n",
    "Produce the same patterns as in the simulations, but in sorted order for visualization."
   ]
  },
  {
   "cell_type": "code",
   "execution_count": 12,
   "metadata": {},
   "outputs": [],
   "source": [
    "# create patterns in sorted order for visualization\n",
    "pairs = task.task_pairs(6, 1)\n",
    "label_item = task.pair_item_patterns(pairs)\n",
    "label_itemtype = task.pair_itemtype_patterns(pairs)\n",
    "label_conj = np.hstack((label_item, label_itemtype))"
   ]
  },
  {
   "cell_type": "code",
   "execution_count": 13,
   "metadata": {},
   "outputs": [
    {
     "data": {
      "image/png": "[encoded data removed]",
      "text/plain": [
       "<Figure size 432x288 with 1 Axes>"
      ]
     },
     "metadata": {
      "needs_background": "light"
     },
     "output_type": "display_data"
    }
   ],
   "source": [
    "fig, ax = plt.subplots()\n",
    "h = ax.matshow(label_item)\n",
    "h = ax.axis('off')\n",
    "fig.savefig(os.path.join(fig_dir, 'net_inputs.pdf'))"
   ]
  },
  {
   "cell_type": "code",
   "execution_count": 14,
   "metadata": {},
   "outputs": [
    {
     "data": {
      "image/png": "[encoded data removed]",
      "text/plain": [
       "<Figure size 432x288 with 1 Axes>"
      ]
     },
     "metadata": {
      "needs_background": "light"
     },
     "output_type": "display_data"
    }
   ],
   "source": [
    "fig, ax = plt.subplots()\n",
    "h = ax.matshow(label_conj)\n",
    "h = ax.axis('off')\n",
    "fig.savefig(os.path.join(fig_dir, 'net_outputs.pdf'))"
   ]
  }
 ],
 "metadata": {
  "kernelspec": {
   "display_name": "mistr",
   "language": "python",
   "name": "mistr"
  },
  "language_info": {
   "codemirror_mode": {
    "name": "ipython",
    "version": 3
   },
   "file_extension": ".py",
   "mimetype": "text/x-python",
   "name": "python",
   "nbconvert_exporter": "python",
   "pygments_lexer": "ipython3",
   "version": "3.7.7"
  }
 },
 "nbformat": 4,
 "nbformat_minor": 4
}
