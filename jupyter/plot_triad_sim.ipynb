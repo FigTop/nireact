{
 "cells": [
  {
   "cell_type": "code",
   "execution_count": 1,
   "metadata": {},
   "outputs": [],
   "source": [
    "%matplotlib inline\n",
    "import numpy as np\n",
    "import scipy.stats as st\n",
    "import pandas as pd\n",
    "import matplotlib.pyplot as plt\n",
    "import seaborn as sns\n",
    "import statsmodels.formula.api as smf\n",
    "import pymc3 as pm\n",
    "\n",
    "import os\n",
    "import sys\n",
    "module_path = os.path.abspath('..')\n",
    "if module_path not in sys.path:\n",
    "    sys.path.append(module_path)\n",
    "from nireact import task, rsa, lba\n",
    "\n",
    "data_dir = '/Users/morton/work/mistr'\n",
    "rsa_dir = '/Users/morton/work/mistr/batch/rsa'\n",
    "lba_dir = '/Users/morton/Dropbox/work/mistr/batch/lba2'\n",
    "model_dir = '/Users/morton/Dropbox/work/mistr/figs3/model'"
   ]
  },
  {
   "cell_type": "markdown",
   "metadata": {},
   "source": [
    "## Load ROI results"
   ]
  },
  {
   "cell_type": "code",
   "execution_count": 2,
   "metadata": {},
   "outputs": [],
   "source": [
    "# load similarity stats\n",
    "df_itype = rsa.load_zstat_full(os.path.join(rsa_dir, \n",
    "                                            'prepost_fix2_sim_item_type_ac'))\n",
    "itype = rsa.zstat_pivot(df_itype, 'pos')"
   ]
  },
  {
   "cell_type": "code",
   "execution_count": 3,
   "metadata": {},
   "outputs": [],
   "source": [
    "# load vector stats\n",
    "df_vector = rsa.load_zstat_full(os.path.join(rsa_dir, \n",
    "                                             'prepost_fix2_triad_vector_ac'))\n",
    "vec = rsa.zstat_pivot(df_vector, 'pos')"
   ]
  },
  {
   "cell_type": "code",
   "execution_count": 4,
   "metadata": {},
   "outputs": [],
   "source": [
    "# merge item type stats\n",
    "pos_itype = df_itype.loc[df_itype.condition == 'pos'].copy()\n",
    "pos_itype.loc[:, 'sim'] = pos_itype.z\n",
    "pos_vec = df_vector.loc[df_vector.condition == 'pos'].copy()\n",
    "pos_itype.loc[:, 'vec'] = pos_vec.z"
   ]
  },
  {
   "cell_type": "markdown",
   "metadata": {},
   "source": [
    "## Load model"
   ]
  },
  {
   "cell_type": "code",
   "execution_count": 8,
   "metadata": {},
   "outputs": [],
   "source": [
    "# load RT data, scrub extreme values\n",
    "raw = task.read_test_all_subj(data_dir)\n",
    "thresh = raw.groupby('test_type').agg(lambda x: np.median(x) + 5 * st.iqr(x))\n",
    "data = task.scrub_rt(raw, thresh=thresh)\n",
    "data.loc[:, 'source'] = 'data'"
   ]
  },
  {
   "cell_type": "code",
   "execution_count": 9,
   "metadata": {},
   "outputs": [],
   "source": [
    "# unpack data variables\n",
    "rt = data.rt.values\n",
    "response = data.response.values\n",
    "test = data.test_type.values\n",
    "subj_idx = data.subj_idx.values\n",
    "n_subj = len(np.unique(subj_idx))"
   ]
  },
  {
   "cell_type": "code",
   "execution_count": 10,
   "metadata": {},
   "outputs": [],
   "source": [
    "# compile model\n",
    "model_nav = lba.LBANav()\n",
    "graph_nav = model_nav.init_graph_hier(rt, response, test, subj_idx)"
   ]
  },
  {
   "cell_type": "code",
   "execution_count": 11,
   "metadata": {},
   "outputs": [],
   "source": [
    "# load the posterior distribution samples\n",
    "trace_nav = pm.load_trace(os.path.join(lba_dir, 'nav_hier'), model=graph_nav)\n",
    "param, subj_param = model_nav.post_param(trace_nav)\n",
    "df_subj = pd.DataFrame(subj_param)"
   ]
  },
  {
   "cell_type": "markdown",
   "metadata": {},
   "source": [
    "## Get all predictors"
   ]
  },
  {
   "cell_type": "code",
   "execution_count": 12,
   "metadata": {},
   "outputs": [],
   "source": [
    "rtc = task.test_rt(data_dir)\n",
    "df = pd.DataFrame({'subj_id': rtc.index.values,\n",
    "                   'v1': df_subj.v1.values, 'v3': df_subj.v3.values})\n",
    "for roi in ['lhpc', 'llpc', 'lphc']:\n",
    "    df['vec_' + roi] = itype[roi].values"
   ]
  },
  {
   "cell_type": "code",
   "execution_count": 13,
   "metadata": {},
   "outputs": [],
   "source": [
    "for roi in ['lhpc', 'llpc', 'lphc']:\n",
    "    df['v_vec_' + roi] = vec[roi].values"
   ]
  },
  {
   "cell_type": "markdown",
   "metadata": {},
   "source": [
    "## Regression tests"
   ]
  },
  {
   "cell_type": "markdown",
   "metadata": {},
   "source": [
    "### HPC item type and v1"
   ]
  },
  {
   "cell_type": "code",
   "execution_count": 29,
   "metadata": {},
   "outputs": [
    {
     "name": "stdout",
     "output_type": "stream",
     "text": [
      "r=0.4762, p=0.0070\n"
     ]
    },
    {
     "data": {
      "image/png": "[encoded data removed]",
      "text/plain": [
       "<Figure size 187.2x187.2 with 1 Axes>"
      ]
     },
     "metadata": {
      "needs_background": "light"
     },
     "output_type": "display_data"
    }
   ],
   "source": [
    "fig, ax = plt.subplots(figsize=(2.6, 2.6))\n",
    "resid = df.copy()\n",
    "res = smf.ols(formula='v_vec_lhpc ~ vec_lhpc', data=df).fit()\n",
    "resid.loc[:, 'vec_ctrl_sim'] = res.resid\n",
    "res = smf.ols(formula='v1 ~ vec_lhpc', data=df).fit()\n",
    "resid.loc[:, 'v1_ctrl_sim'] = res.resid\n",
    "h = sns.regplot('v1_ctrl_sim', 'vec_ctrl_sim', data=resid)\n",
    "h = ax.set_ylabel('Variable process ctrl clust')\n",
    "h = ax.set_xlabel('HPC organization ctrl clust')\n",
    "fig.savefig(os.path.join(model_dir, 'lba_nav_sim_vec_hpc_v1.pdf'))\n",
    "rho, pv = st.spearmanr(resid['vec_ctrl_sim'], resid['v1_ctrl_sim'])\n",
    "print(f'r={rho:.4f}, p={pv/2:.4f}')"
   ]
  },
  {
   "cell_type": "markdown",
   "metadata": {},
   "source": [
    "### LPC item type and v2"
   ]
  },
  {
   "cell_type": "code",
   "execution_count": 31,
   "metadata": {},
   "outputs": [
    {
     "name": "stdout",
     "output_type": "stream",
     "text": [
      "r=0.3819, p=0.0271\n"
     ]
    },
    {
     "data": {
      "image/png": "[encoded data removed]",
      "text/plain": [
       "<Figure size 187.2x187.2 with 1 Axes>"
      ]
     },
     "metadata": {
      "needs_background": "light"
     },
     "output_type": "display_data"
    }
   ],
   "source": [
    "fig, ax = plt.subplots(figsize=(2.6, 2.6))\n",
    "resid = df.copy()\n",
    "res = smf.ols(formula='v_vec_llpc ~ vec_llpc', data=df).fit()\n",
    "resid.loc[:, 'vec_ctrl_sim'] = res.resid\n",
    "res = smf.ols(formula='v3 ~ vec_llpc', data=df).fit()\n",
    "resid.loc[:, 'v3_ctrl_sim'] = res.resid\n",
    "h = sns.regplot('v3_ctrl_sim', 'vec_ctrl_sim', data=resid, color='g')\n",
    "h = ax.set_ylabel('Fixed process ctrl clust')\n",
    "h = ax.set_xlabel('LPC organization ctrl clust')\n",
    "fig.savefig(os.path.join(model_dir, 'lba_nav_sim_vec_lpc_v3.pdf'))\n",
    "rho, pv = st.spearmanr(resid['vec_ctrl_sim'], resid['v3_ctrl_sim'])\n",
    "print(f'r={rho:.4f}, p={pv/2:.4f}')"
   ]
  },
  {
   "cell_type": "markdown",
   "metadata": {},
   "source": [
    "### PHC item type and v3"
   ]
  },
  {
   "cell_type": "code",
   "execution_count": 33,
   "metadata": {
    "pycharm": {
     "name": "#%%\n"
    }
   },
   "outputs": [
    {
     "name": "stdout",
     "output_type": "stream",
     "text": [
      "r=0.3456, p=0.0419\n"
     ]
    },
    {
     "data": {
      "image/png": "[encoded data removed]",
      "text/plain": [
       "<Figure size 187.2x187.2 with 1 Axes>"
      ]
     },
     "metadata": {
      "needs_background": "light"
     },
     "output_type": "display_data"
    }
   ],
   "source": [
    "fig, ax = plt.subplots(figsize=(2.6, 2.6))\n",
    "resid = df.copy()\n",
    "res = smf.ols(formula='v_vec_lphc ~ vec_lphc', data=df).fit()\n",
    "resid.loc[:, 'vec_ctrl_sim'] = res.resid\n",
    "res = smf.ols(formula='v3 ~ vec_lphc', data=df).fit()\n",
    "resid.loc[:, 'v3_ctrl_sim'] = res.resid\n",
    "h = sns.regplot('v3_ctrl_sim', 'vec_ctrl_sim', data=resid, color='g')\n",
    "h = ax.set_ylabel('Fixed process ctrl clust')\n",
    "h = ax.set_xlabel('PHC organization ctrl clust')\n",
    "fig.savefig(os.path.join(model_dir, 'lba_nav_sim_vec_phc_v3.pdf'))\n",
    "rho, pv = st.spearmanr(resid['vec_ctrl_sim'], resid['v3_ctrl_sim'])\n",
    "print(f'r={rho:.4f}, p={pv/2:.4f}')"
   ]
  }
 ],
 "metadata": {
  "kernelspec": {
   "display_name": "mistr",
   "language": "python",
   "name": "mistr"
  },
  "language_info": {
   "codemirror_mode": {
    "name": "ipython",
    "version": 3
   },
   "file_extension": ".py",
   "mimetype": "text/x-python",
   "name": "python",
   "nbconvert_exporter": "python",
   "pygments_lexer": "ipython3",
   "version": "3.7.7"
  }
 },
 "nbformat": 4,
 "nbformat_minor": 4
}
