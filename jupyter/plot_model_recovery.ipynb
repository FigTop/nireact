{
 "cells": [
  {
   "cell_type": "markdown",
   "metadata": {},
   "source": [
    "# Analyze model recovery test results\n",
    "\n",
    "After running model recovery, load results and compare to the model weights observed for the actual data."
   ]
  },
  {
   "cell_type": "code",
   "execution_count": null,
   "metadata": {},
   "outputs": [],
   "source": [
    "%matplotlib inline\n",
    "import os\n",
    "import sys\n",
    "module_path = os.path.abspath('..')\n",
    "if module_path not in sys.path:\n",
    "    sys.path.append(module_path)\n",
    "import matplotlib.pyplot as plt\n",
    "import numpy as np"
   ]
  },
  {
   "cell_type": "markdown",
   "metadata": {},
   "source": [
    "## Load model recovery results"
   ]
  },
  {
   "cell_type": "code",
   "execution_count": null,
   "metadata": {},
   "outputs": [],
   "source": [
    "lba_dir = '/Users/morton/Dropbox/work/mistr/batch/lba2'\n",
    "res_file = os.path.join(lba_dir, 'model_comp100.npz')\n",
    "res = np.load(res_file)\n",
    "print(np.mean(res['weight'], 2))\n",
    "print(np.std(res['weight'], 2))\n",
    "print(np.mean(res['winner'], 2))"
   ]
  },
  {
   "cell_type": "markdown",
   "metadata": {},
   "source": [
    "## Test observed model weight\n",
    "\n",
    "Compare the observed model weight (copied from plot_nav_hier.ipynb results) to weights expected under different ground truth models."
   ]
  },
  {
   "cell_type": "code",
   "execution_count": null,
   "metadata": {},
   "outputs": [],
   "source": [
    "p_greater = np.sum(res['weight'] > 0.995605, 2) / 100\n",
    "print(p_greater)\n",
    "h = plt.hist(res['weight'][0, 1])"
   ]
  },
  {
   "cell_type": "markdown",
   "metadata": {},
   "source": [
    "## Estimate Bayes factor"
   ]
  },
  {
   "cell_type": "code",
   "execution_count": null,
   "metadata": {},
   "outputs": [],
   "source": [
    "p_greater[1, 1] / p_greater[0, 1]"
   ]
  }
 ],
 "metadata": {
  "kernelspec": {
   "display_name": "mistr",
   "language": "python",
   "name": "mistr"
  },
  "language_info": {
   "codemirror_mode": {
    "name": "ipython",
    "version": 3
   },
   "file_extension": ".py",
   "mimetype": "text/x-python",
   "name": "python",
   "nbconvert_exporter": "python",
   "pygments_lexer": "ipython3",
   "version": "3.7.7"
  }
 },
 "nbformat": 4,
 "nbformat_minor": 4
}
